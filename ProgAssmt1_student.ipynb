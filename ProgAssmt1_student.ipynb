{
 "cells": [
  {
   "attachments": {},
   "cell_type": "markdown",
   "metadata": {},
   "source": [
    "# General Instructions to students:\n",
    "\n",
    "1. There are 5 types of cells in this notebook. The cell type will be indicated within the cell.\n",
    "    1. Markdown cells with problem written in it. (DO NOT TOUCH THESE CELLS) (**Cell type: TextRead**)\n",
    "    2. Python cells with setup code for further evaluations. (DO NOT TOUCH THESE CELLS) (**Cell type: CodeRead**)\n",
    "    3. Python code cells with some template code or empty cell. (FILL CODE IN THESE CELLS BASED ON INSTRUCTIONS IN CURRENT AND PREVIOUS CELLS) (**Cell type: CodeWrite**)\n",
    "    4. Markdown cells where a written reasoning or conclusion is expected. (WRITE SENTENCES IN THESE CELLS) (**Cell type: TextWrite**)\n",
    "    5. Temporary code cells for convenience and TAs. (YOU MAY DO WHAT YOU WILL WITH THESE CELLS, TAs WILL REPLACE WHATEVER YOU WRITE HERE WITH OFFICIAL EVALUATION CODE) (**Cell type: Convenience**)\n",
    "    \n",
    "2. You are not allowed to insert new cells in the submitted notebook.\n",
    "\n",
    "3. You are not allowed to import any extra packages.\n",
    "\n",
    "4. The code is to be written in Python 3.6 syntax. Latest versions of other packages maybe assumed.\n",
    "\n",
    "5. In CodeWrite Cells, the only outputs to be given are plots asked in the question. Nothing else to be output/print. \n",
    "\n",
    "6. If TextWrite cells ask you to give accuracy/error/other numbers you can print them on the code cells, but remove the print statements before submitting.\n",
    "\n",
    "7. The convenience code can be used to check the expected syntax of the functions. At a minimum, your entire notebook must run with \"run all\" with the convenience cells as it is. Any runtime failures on the submitted notebook as it is will get zero marks.\n",
    "\n",
    "8. All code must be written by yourself. Copying from other students/material on the web is strictly prohibited. Any violations will result in zero marks. \n",
    "\n",
    "9. You may discuss broad ideas with friends, but all code must be written by yourself.\n",
    "\n",
    "9. All datasets will be given as .npz files, and will contain data in 4 numpy arrays :\"X_train, Y_train, X_test, Y_test\". In that order. The meaning of the 4 arrays can be easily inferred from their names. (The Lasso regression problem requires you to split the data yourself)\n",
    "    1. Problem 1 uses datasets 1_1, 1_2 and 1_3. (Classification)\n",
    "    2. Problem 2 uses datasets 2_1 and 2_2. (Classification)\n",
    "    3. Problem 3 uses datasets 3_1. (Regression)\n",
    "    4. Problem 4 uses a small dataset described within the problem itself. (Regression)\n",
    "    5. Problems 5,6,7,8 uses classification datasets A,B,C,D  (Classification)\n",
    "    6. Problem 9 uses dataset LassoReg_data (Regression)\n",
    "\n",
    "10. All plots must be labelled properly, all tables must have rows and columns named properly.\n",
    "\n",
    "11. Plotting the data and prediction is highly encouraged for debugging. But remove debugging/understanding code before submitting.\n",
    "\n",
    "12. Before subbmission ensure that you submit with the outputs (do not clear the outputs), so that when evaluating we can run selectively.\n",
    "\n",
    "13. Before submission ensure that the path for the folder containing the data is \"../../Data/\" \n"
   ]
  },
  {
   "cell_type": "code",
   "execution_count": null,
   "metadata": {
    "collapsed": true
   },
   "outputs": [],
   "source": [
    "# Cell type : CodeRead\n",
    "\n",
    "import numpy as np\n",
    "import matplotlib.pyplot as plt\n"
   ]
  },
  {
   "cell_type": "markdown",
   "metadata": {},
   "source": [
    "**Cell type : TextRead**\n",
    "\n",
    "# Problem 1: Learning Binary Bayes Classifiers from data with Max. Likelihood \n",
    "\n",
    "Derive Bayes classifiers under assumptions below, and use ML estimators to compute and return the results on a test set. \n",
    "\n",
    "1a) Assume $X|Y=-1 \\sim \\mathcal{N}(\\mu_-, I)$ and  $X|Y=1 \\sim \\mathcal{N}(\\mu_+, I)$. *(Same known covariance)*\n",
    "\n",
    "1b) Assume $X|Y=-1 \\sim \\mathcal{N}(\\mu_-, \\Sigma)$ and $X|Y=1 \\sim \\mathcal{N}(\\mu_+, \\Sigma)$ *(Same unknown covariance)*\n",
    "\n",
    "1c) Assume $X|Y=-1 \\sim \\mathcal{N}(\\mu_-, \\Sigma_-)$ and $X|Y=1 \\sim \\mathcal{N}(\\mu_+, \\Sigma_+)$ *(different unknown covariance)*\n",
    "\n",
    "\n"
   ]
  },
  {
   "cell_type": "code",
   "execution_count": null,
   "metadata": {
    "collapsed": true
   },
   "outputs": [],
   "source": [
    "# Cell type : CodeWrite\n",
    "\n",
    "def Bayes1a(X_train, Y_train, X_test):\n",
    "    \"\"\" Give prediction for test instance using assumption 1a.\n",
    "\n",
    "    Arguments:\n",
    "    X_train: numpy array of shape (n,d)\n",
    "    Y_train: +1/-1 numpy array of shape (n,)\n",
    "    X_test : numpy array of shape (m,d)\n",
    "\n",
    "    Returns:\n",
    "    Y_test_pred : +1/-1 numpy array of shape (m,)\n",
    "    \n",
    "    \"\"\"\n",
    "    \n",
    "def Bayes1b(X_train, Y_train, X_test):\n",
    "    \"\"\" Give prediction for test instance using assumption 1b.\n",
    "\n",
    "    Arguments:\n",
    "    X_train: numpy array of shape (n,d)\n",
    "    Y_train: +1/-1 numpy array of shape (n,)\n",
    "    X_test : numpy array of shape (m,d)\n",
    "\n",
    "    Returns:\n",
    "    Y_test_pred : +1/-1 numpy array of shape (m,)\n",
    "    \n",
    "    \"\"\"\n",
    "\n",
    "def Bayes1c(X_train, Y_train, X_test):\n",
    "    \"\"\" Give prediction for test instance using assumption 1c.\n",
    "\n",
    "    Arguments:\n",
    "    X_train: numpy array of shape (n,d)\n",
    "    Y_train: +1/-1 numpy array of shape (n,)\n",
    "    X_test : numpy array of shape (m,d)\n",
    "\n",
    "    Returns:\n",
    "    Y_test_pred : +1/-1 numpy array of shape (m,)\n",
    "    \n",
    "    \"\"\"\n",
    "\n",
    "    \n",
    "    \n",
    "\n",
    "\n"
   ]
  },
  {
   "cell_type": "code",
   "execution_count": null,
   "metadata": {
    "collapsed": true
   },
   "outputs": [],
   "source": [
    "# Cell type : Convenience\n",
    "\n",
    "# Testing the functions above\n",
    "\n",
    "# To TAs: Replace this cell with the testing cell developed.\n",
    "\n",
    "# To students: You may use the example here for testing syntax issues \n",
    "# with your functions, and also as a sanity check. But the final evaluation\n",
    "# will be done for different inputs to the functions. (So you can't just \n",
    "# solve the problem for this one example given below.) \n",
    "\n",
    "\n",
    "X_train_pos = np.random.randn(1000,2)+np.array([[1.,2.]])\n",
    "X_train_neg = np.random.randn(1000,2)+np.array([[2.,4.]])\n",
    "X_train = np.concatenate((X_train_pos, X_train_neg), axis=0)\n",
    "Y_train = np.concatenate(( np.ones(1000), -1*np.ones(1000) ))\n",
    "X_test_pos = np.random.randn(1000,2)+np.array([[1.,2.]])\n",
    "X_test_neg = np.random.randn(1000,2)+np.array([[2.,4.]])\n",
    "X_test = np.concatenate((X_test_pos, X_test_neg), axis=0)\n",
    "Y_test = np.concatenate(( np.ones(1000), -1*np.ones(1000) ))\n",
    "\n",
    "Y_pred_test_1a = Bayes1a(X_train, Y_train, X_test)\n",
    "Y_pred_test_1b = Bayes1b(X_train, Y_train, X_test)\n",
    "Y_pred_test_1c = Bayes1c(X_train, Y_train, X_test)\n",
    "\n",
    "\n"
   ]
  },
  {
   "cell_type": "markdown",
   "metadata": {},
   "source": [
    "**Cell type : TextRead**\n",
    "\n",
    "# Problem 1\n",
    "\n",
    "1d) Run the above three algorithms (Bayes1a,1b and 1c), for the three datasets given (dataset1_1.npz, dataset1_2.npz, dataset1_3.npz) in the cell below.\n",
    "\n",
    "In the next CodeWrite cell, Plot all the classifiers (3 classification algos on 3 datasets = 9 plots) on a 2d plot (color the positively classified area light green, and negatively classified area light red, for reference see Bishop Fig 4.5). Add the training data points also on the plot. Plots to be organised into 3 plots follows: One plot for each dataset, with three subplots in each for the three classifiers. Label the 9 plots appropriately. \n",
    "\n",
    "In the next Textwrite cell, summarise (use the plots of the data and the assumptions in the problem to explain) your observations regarding the six learnt classifiers, and also give the error rate of the three classifiers on the three datasets (use X_test and Y_test) as 3x3 table, with appropriately named rows and columns.\n"
   ]
  },
  {
   "cell_type": "code",
   "execution_count": null,
   "metadata": {
    "collapsed": true
   },
   "outputs": [],
   "source": [
    "# Cell type : CodeWrite\n",
    "# write the code for loading the data, running the three algos, and plotting here. \n",
    "# (Use the functions written previously.)\n",
    "\n"
   ]
  },
  {
   "cell_type": "markdown",
   "metadata": {},
   "source": [
    "** Cell type : TextWrite ** \n",
    "(Write your observations and table of errors here)\n",
    "\n"
   ]
  },
  {
   "cell_type": "markdown",
   "metadata": {},
   "source": [
    "\n",
    "** Cell type : TextRead ** \n",
    "\n",
    "\n",
    "# Problem 2 : Learning Multiclass Bayes Classifiers from data with Max. Likeli.\n",
    "\n",
    "Derive Bayes classifiers under assumptions below, and use ML estimators to compute and return the results on a test set. The $4\\times 4$ loss matrix giving the loss incurred for predicting $i$ when truth is $j$ is below.\n",
    "\n",
    "$L=\\begin{bmatrix} 0 &1 & 2& 3\\\\ 1 &0 & 1& 2\\\\ 2 &1 & 0& 1\\\\ 3 &2 & 1& 0 \\end{bmatrix}$ \n",
    "\n",
    "2a) Assume $X|Y=a$ is distributed as Normal with mean $\\mu_a$ and variance $I$.\n",
    "\n",
    "2b) Assume $X|Y=a$ is distributed as Normal with mean $\\mu_a$ and variance $\\Sigma$.\n",
    "\n",
    "2c) Assume $X|Y=a$ is distributed as Normal with mean $\\mu_a$ and variance $\\Sigma_a$.\n",
    "\n"
   ]
  },
  {
   "cell_type": "code",
   "execution_count": null,
   "metadata": {
    "collapsed": true
   },
   "outputs": [],
   "source": [
    "# Cell type : CodeWrite\n",
    "# Fill in functions in this cell\n",
    "\n",
    "\n",
    "def Bayes2a(X_train, Y_train, X_test):\n",
    "    \"\"\" Give Bayes classifier prediction for test instances \n",
    "    using assumption 2a.\n",
    "\n",
    "    Arguments:\n",
    "    X_train: numpy array of shape (n,d)\n",
    "    Y_train: {1,2,3,4} numpy array of shape (n,)\n",
    "    X_test : numpy array of shape (m,d)\n",
    "\n",
    "    Returns:\n",
    "    Y_test_pred : {1,2,3,4} numpy array of shape (m,)\n",
    "    \n",
    "    \"\"\"\n",
    "    \n",
    "def Bayes2b(X_train, Y_train, X_test):\n",
    "    \"\"\" Give Bayes classifier prediction for test instances \n",
    "    using assumption 2b.\n",
    "\n",
    "    Arguments:\n",
    "    X_train: numpy array of shape (n,d)\n",
    "    Y_train: {1,2,3,4} numpy array of shape (n,)\n",
    "    X_test : numpy array of shape (m,d)\n",
    "\n",
    "    Returns:\n",
    "    Y_test_pred : {1,2,3,4} numpy array of shape (m,)\n",
    "    \n",
    "    \"\"\"\n",
    "\n",
    "def Bayes2c(X_train, Y_train, X_test):\n",
    "    \"\"\" Give Bayes classifier prediction for test instances \n",
    "    using assumption 2c.\n",
    "\n",
    "    Arguments:\n",
    "    X_train: numpy array of shape (n,d)\n",
    "    Y_train: {1,2,3,4} numpy array of shape (n,)\n",
    "    X_test : numpy array of shape (m,d)\n",
    "\n",
    "    Returns:\n",
    "    Y_test_pred : {1,2,3,4} numpy array of shape (m,)\n",
    "    \n",
    "    \"\"\"\n",
    "\n",
    "    \n",
    "    \n",
    "\n",
    "\n",
    "    \n"
   ]
  },
  {
   "cell_type": "code",
   "execution_count": null,
   "metadata": {
    "collapsed": true
   },
   "outputs": [],
   "source": [
    "# Cell type : Convenience\n",
    "\n",
    "# Testing the functions above\n",
    "\n",
    "# Data 1\n",
    "\n",
    "mat1=np.array([[1.,0.],[0.,1.]])\n",
    "mat2=np.array([[1.,0.],[0.,1.]])\n",
    "mat3=np.array([[1.,0.],[0.,1.]])\n",
    "mat4=np.array([[1.,0.],[0.,1.]])\n",
    "\n",
    "X_train_1 = np.dot(np.random.randn(1000,2), mat1)+np.array([[0.,0.]])\n",
    "X_train_2 = np.dot(np.random.randn(1000,2), mat2)+np.array([[0.,2.]])\n",
    "X_train_3 = np.dot(np.random.randn(1000,2), mat3)+np.array([[2.,0.]])\n",
    "X_train_4 = np.dot(np.random.randn(1000,2), mat4)+np.array([[2.,2.]])\n",
    "\n",
    "X_train = np.concatenate((X_train_1, X_train_2, X_train_3, X_train_4), axis=0)\n",
    "Y_train = np.concatenate(( np.ones(1000), 2*np.ones(1000), 3*np.ones(1000), 4*np.ones(1000) ))\n",
    "\n",
    "\n",
    "X_test_1 = np.dot(np.random.randn(1000,2), mat1)+np.array([[0.,0.]])\n",
    "X_test_2 = np.dot(np.random.randn(1000,2), mat2)+np.array([[0.,2.]])\n",
    "X_test_3 = np.dot(np.random.randn(1000,2), mat3)+np.array([[2.,0.]])\n",
    "X_test_4 = np.dot(np.random.randn(1000,2), mat4)+np.array([[2.,2.]])\n",
    "\n",
    "X_test = np.concatenate((X_test_1, X_test_2, X_test_3, X_test_4), axis=0)\n",
    "Y_test = np.concatenate(( np.ones(1000), 2*np.ones(1000), 3*np.ones(1000), 4*np.ones(1000) ))\n",
    "\n",
    "\n",
    "\n",
    "Y_pred_test_2a = Bayes2a(X_train, Y_train, X_test)\n",
    "Y_pred_test_2b = Bayes2b(X_train, Y_train, X_test)\n",
    "Y_pred_test_2c = Bayes2c(X_train, Y_train, X_test)\n",
    "\n"
   ]
  },
  {
   "cell_type": "markdown",
   "metadata": {},
   "source": [
    "**Cell type : TextRead**\n",
    "\n",
    "# Problem 2\n",
    "\n",
    "2d) Run the above three algorithms (Bayes2a,2b and 2c), for the two datasets given (dataset2_1.npz, dataset2_2.npz) in the cell below.\n",
    "\n",
    "In the next CodeWrite cell, Plot all the classifiers (3 classification algos on 2 datasets = 6 plots) on a 2d plot (color the 4 areas classified as 1,2,3 and 4 differently). Add the training data points also on the plot. Plots to be organised as follows: One plot for each dataset, with three subplots in each for the three classifiers. Label the 6 plots appropriately. \n",
    "\n",
    "In the next Textwrite cell, summarise your observations regarding the six learnt classifiers. Give the *expected loss* (use the Loss matrix given in the problem.) of the three classifiers on the two datasets (use X_test and Y_test) as 2x3 table, with appropriately named rows and columns. Also, give the 4x4 confusion matrix of the final classifier for all three algorithms and both datasets. \n"
   ]
  },
  {
   "cell_type": "code",
   "execution_count": null,
   "metadata": {
    "collapsed": true
   },
   "outputs": [],
   "source": [
    "# Cell type : CodeWrite\n",
    "# write the code for loading the data, running the three algos, and plotting here. \n",
    "# (Use the functions written previously.)\n",
    "\n"
   ]
  },
  {
   "cell_type": "markdown",
   "metadata": {},
   "source": [
    "** Cell type : TextWrite ** \n",
    "(Write your observations and table of errors here)\n",
    "\n"
   ]
  },
  {
   "cell_type": "code",
   "execution_count": null,
   "metadata": {
    "collapsed": true
   },
   "outputs": [],
   "source": [
    "# Cell type: convenience\n",
    "\n"
   ]
  },
  {
   "attachments": {},
   "cell_type": "markdown",
   "metadata": {},
   "source": [
    "**Cell type : TextRead**\n",
    "\n",
    "\n",
    "# Problem 3 : Analyse overfitting and underfitting in Regression\n",
    "\n",
    "\n",
    "Consider the 2-dimensional regression dataset \"dateset3_1.npz\". Do polynomial ridge regression for degrees = [1,2,4,8,16], and regularisation parameter $\\lambda$ = [1e-9, 1e-7, 1e-5, 1e-3, 1e-1, 1e1]. Do all the above by using four different subset sizes of the training set : 50, 100, 200 and 1000. (Just take the approppriate number samples of X_train and Y_train.)\n",
    "\n",
    "Regularised Risk = $\\frac{1}{2} \\sum_{i=1}^m (w^\\top \\phi(x_i) - y_i)^2 + \\frac{\\lambda}{2} ||w||^2 $ \n",
    "\n",
    "The lambda value is given by the regularisation parameter.\n",
    "\n",
    "For each training set size compute how the train and test squared error varies with degree and regularisation parameter, via a 5x6 table (where $(i,j)^{th}$ entry corrosponds to $(degree, \\lambda)$ ) with appropriate row and column headings. Compute the \"best\" degree and regularisation parameter based on the test squared error. Give a contour plot of the learned function for the chosen hyper-parameters, with appropriate title and labels . \n",
    "\n",
    "Summarise your findings in the next text cell in a few sentences. And reproduce the tables showing train and test error for various training sizes. You may reuse functions defined previously.\n",
    "\n",
    "\n"
   ]
  },
  {
   "cell_type": "code",
   "execution_count": null,
   "metadata": {
    "collapsed": true
   },
   "outputs": [],
   "source": [
    "# Cell type : CodeWrite \n"
   ]
  },
  {
   "cell_type": "markdown",
   "metadata": {},
   "source": [
    "** Cell type : TextWrite **"
   ]
  },
  {
   "attachments": {},
   "cell_type": "markdown",
   "metadata": {
    "collapsed": true
   },
   "source": [
    "**Cell type : TextRead**\n",
    "\n",
    "\n",
    "# Problem 4 : Bayesian Regression\n",
    "\n",
    "\n",
    "Consider the 2-dimensional regression dataset with 4 training points given below:\n",
    "\n",
    "(x1,   x2)   : y\n",
    "\n",
    "(1.0, 2.0)  : 5.1\n",
    "\n",
    "(2.0, 2.1)  : 6.1\n",
    "\n",
    "(0.6, 1.5)  : 4.2\n",
    "\n",
    "(1.1, 0.9)  : 2.9\n",
    "\n",
    "Assume $Y_i=W.X_i + \\epsilon_i$, where W is a random variable with prior distribution given by a Gaussian with mean $[\\mu_1, \\mu_2]$ and covariance given by $\\tau^2*I$. The random variables $\\epsilon_i$ are independent, and normally distributed with variance $\\sigma^2$. For each of the settings below, give the contours of the prior distribution and posterior distribution of $W$ given the 4 data points. Plot using a contour map.\n",
    "\n",
    "1. $\\mu_1=\\mu_2=0$ and $\\tau^2=1$, and $\\sigma^2=1$\n",
    "2. $\\mu_1=\\mu_2=0$ and $\\tau^2=10$, and $\\sigma^2=1$\n",
    "3. $\\mu_1=\\mu_2=0$ and $\\tau^2=1$, and $\\sigma^2=10$\n",
    "4. $\\mu_1=\\mu_2=0$ and $\\tau^2=10$, and $\\sigma^2=10$\n",
    "5. $\\mu_1=\\mu_2=5$ and $\\tau^2=1$, and $\\sigma^2=1$\n",
    "6. $\\mu_1=\\mu_2=5$ and $\\tau^2=10$, and $\\sigma^2=1$\n",
    "7. $\\mu_1=\\mu_2=5$ and $\\tau^2=1$, and $\\sigma^2=10$\n",
    "8. $\\mu_1=\\mu_2=5$ and $\\tau^2=10$, and $\\sigma^2=10$\n",
    "\n",
    "Repeat all the above experiments also with 400 data points, which are simply the 4 data points above repeated 100 times each.\n",
    "\n",
    "A total of 16\\*2 contour plots are to be given. \n",
    "\n",
    "Summarise your findings and conclusions in the final textcell. e.g. what happens when tau, sigma and number of data points are increased.\n",
    "\n",
    "Hint 1: In class we saw the expression for posterior of W, but only used it to find the MAP estimate. But it can be analysed in greater detail. You may read up classic textbooks like Bishop to figure out the posterior or work it out yourself. This is not too hard.\n",
    "\n",
    "Hint 2: In particular, observe that the posterior looks like a product of exponential functions, and the term inside the exponent is always a degree 2 (or less) function of w. Can you think of any distribution which looks like that?\n",
    "\n",
    "\n",
    "\n",
    "\n",
    "\n",
    "\n",
    "\n",
    "\n",
    "\n"
   ]
  },
  {
   "cell_type": "code",
   "execution_count": 1,
   "metadata": {
    "collapsed": true
   },
   "outputs": [],
   "source": [
    "# Cell type : CodeWrite \n"
   ]
  },
  {
   "cell_type": "markdown",
   "metadata": {},
   "source": [
    "** Cell type : TextWrite **"
   ]
  },
  {
   "attachments": {},
   "cell_type": "markdown",
   "metadata": {},
   "source": [
    "**Cell type : TextRead**\n",
    "\n",
    "# 5. Logistic Regression \n",
    "\n",
    "Write code for doing logistic regression below. Also write code for choosing best hyperparameters for each kernel type (use a part of training set as validation set). \n",
    "\n",
    "The range of hyperparameters is typically chosen on a log scale e.g. 1e-4, 1e-3, 1e-2... 1e3.\n",
    "\n",
    "Write code for running in the cell after (You may be asked to demonstrate your code during the viva using this cell.)\n",
    "\n",
    "In text cell after that report the following numbers you get by running appropriate code:\n",
    "\n",
    "For each classification data set report the best kernel and regularisation parameters for linear, RBF and Poly kernels. (Linear has no kernel parameter.) Report the training and test zero-one error for those hyperparameters. \n",
    "\n",
    "For each given hyperparameter setting (kernel and regularisation) you will have to do some exploring to find the right learning rate to use in gradient descent. The optimisation learning rate is not a model hyperparameter and hence can be chosen based on just the training set. i.e. choose the learning rate for which the training loss decreases the most.\n",
    "\n",
    "For the synthetic classification datasets (dataset_A and dataset_B) in 2-dimensions, also illustrate the learned classifier for each kernel setting. Do this in the last codeWrite cell for this question.\n"
   ]
  },
  {
   "cell_type": "code",
   "execution_count": 13,
   "metadata": {
    "collapsed": true
   },
   "outputs": [],
   "source": [
    "# CodeWrite \n",
    "#Write logistic regression code from scratch. Use gradient descent.\n",
    "# Only write functions here\n",
    "\n",
    "def train_pred_logistic_regression(X, Y, kernel='linear', reg_param=0., \n",
    "                                   kernel_param=1., num_iter_gd=100):\n",
    "    \"\"\"\n",
    "    Arguments:\n",
    "    X : (n,d) shape numpy array\n",
    "    Y : (n,)  shape numpy array\n",
    "    X_test : (m,d) shape numpy array\n",
    "    kernel = 'linear' or 'rbf' or 'poly' \n",
    "    reg_param = $\\lambda$\n",
    "    num_iter_gd = number of GD iterations.\n",
    "\n",
    "    Returns the result of kernel logistic regression :\n",
    "    alpha: Vector of solutions for the dual. Numpy array of shape (n,)\n",
    "\n",
    "    Primal problem:\n",
    "    $ \\min_w  \\sum_{i=1}^n \\log(1+\\exp(-y_i* \\w^\\top \\phi(\\x_i)))  + \\frac{\\lambda}{2} ||\\w||^2 $\n",
    "\n",
    "    the dual of which is\n",
    "\n",
    "    $ \\min_alpha \\sum_{i=1}^n \\log(1+\\exp(-y_i* \\alpha^\\top K_{:,i} ))  + \\frac{\\lambda}{2} \\alpha^\\top K \\alpha $\n",
    "    where $\\phi$ is the feature got by the kernel.\n",
    "\n",
    "    Where K is the nxn kernel matrix computed on the training data.\n",
    "\n",
    "    The kernel is defined by the kernel_param:\n",
    "    If kernel=linear: K(\\u,\\v) = \\u^\\top \\v  \n",
    "    If kernel=poly:  K(\\u,\\v) = (1+\\u^\\top \\v)^(kernel_param)\n",
    "    If kernel=rbf:  K(\\u,\\v) = \\exp(-kernel_param*||\\u-\\v||^2)\n",
    "    \"\"\"\n",
    "\n",
    "def test_pred(alpha, train_X, train_Y, test_X, kernel, kernel_param):\n",
    "    \"\"\"\n",
    "    Return the predictions on test_X using the learnt alphas\n",
    "    \"\"\"\n",
    "    \n",
    "\n",
    "    \n",
    "\n"
   ]
  },
  {
   "cell_type": "code",
   "execution_count": null,
   "metadata": {
    "collapsed": true
   },
   "outputs": [],
   "source": [
    "# CodeWrite : Use the functions above to do validation to get best hyperparameters \n",
    "# (i.e. kernel_param and regularisation_param).\n",
    "# Also, get the numbers you report below. \n",
    "\n"
   ]
  },
  {
   "cell_type": "markdown",
   "metadata": {},
   "source": [
    "TextWrite Cell: Give your observations and the list of hyperparameter choices and train zero-one error  and test zero-one error for all three kernel choices, for all 4 datasets (2 real world and 2 synthetic).  \n",
    "\n",
    "\n"
   ]
  },
  {
   "cell_type": "code",
   "execution_count": null,
   "metadata": {
    "collapsed": true
   },
   "outputs": [],
   "source": [
    "# Codewrite cell: Generate plots of learned classifier for all three kernel types, on dataset_A and datasset_B.\n",
    "# Plots should give both the learned classifier and the train data. \n",
    "# Similar to  Bishop Figure 4.5 (with just two classes here.)\n",
    "# Total number of plots = 3 * 2 = 6\n",
    "\n"
   ]
  },
  {
   "attachments": {},
   "cell_type": "markdown",
   "metadata": {
    "collapsed": true
   },
   "source": [
    "**Cell type : TextRead**\n",
    "\n",
    "# 6. Decision Tree\n",
    "\n",
    "Write code for learning decision tree below. Take as an argument a hyperparameter on what size node to stop splitting. Use a part of training set as validation set.\n",
    "\n",
    "Write code for running in the cell after (You may be asked to demonstrate your code during the viva using this cell.)\n",
    "\n",
    "In text cell after that report the following numbers you get by running appropriate code:\n",
    "\n",
    "For all four data sets  report the best node size to stop splitting. Report the training and test zero-one error for those hyperparameters.\n",
    "\n",
    "For datasets A and B, also illustrate the learned classifier. Do this in the last codeWrite cell for this question.\n",
    "\n",
    "Important: Think about how you will represent a decision tree. (Possible soln: Store as a list of tuples containing node position, attribute to split, threshold, class to classifiy (if leaf node) )\n"
   ]
  },
  {
   "cell_type": "code",
   "execution_count": null,
   "metadata": {
    "collapsed": true
   },
   "outputs": [],
   "source": [
    "# CodeWrite cell\n",
    "# Write Decision tree classifier from scratch, \n",
    "# write only functions here (you may write extra functions here if you wish)\n",
    "def train_decision_tree(X, Y, num_nodes_stop=1, criterion='accuracy'):\n",
    "    \"\"\" Returns a decision tree trained on X and Y. \n",
    "    Stops splitting nodes when a node has hit a size of \"num_nodes_stop\" or lower.\n",
    "    Split criterion can be either 'accuracy' or 'entropy'.\n",
    "    Returns a tree (In whatever format that you find appropriate)\n",
    "    \"\"\"\n",
    "    \n",
    "\n",
    "def eval_decision_tree(tree, test_X):\n",
    "    \"\"\" Takes in a tree, and a bunch of instances X and \n",
    "    returns the tree predicted values at those instances.\"\"\"\n",
    "\n",
    "\n",
    "\n"
   ]
  },
  {
   "cell_type": "code",
   "execution_count": 6,
   "metadata": {
    "collapsed": true
   },
   "outputs": [],
   "source": [
    "# CodeWrite cell\n",
    "# Write code here for doing validation to find the best hyperparameters (i.e. num_nodes_stop)\n",
    "# Also Generate the numbers that you report below. \n",
    "# Repeat with criterion set to entropy also.\n",
    "\n"
   ]
  },
  {
   "attachments": {},
   "cell_type": "markdown",
   "metadata": {},
   "source": [
    "TextWrite cell: Give your observations and the list of hyperparameter choices and train zero-one error  and test zero-one error, for all 4 classification datasets A,B,C,D. (2 real world and 2 synthetic).  \n",
    "\n"
   ]
  },
  {
   "cell_type": "code",
   "execution_count": null,
   "metadata": {
    "collapsed": true
   },
   "outputs": [],
   "source": [
    "## Codewrite cell: Generate plots of learned decision tree classifier on dataset_A and datasset_B.\n",
    "# Plots should give both the learned classifier and the train data. \n",
    "# Plots only required for the accuracy criterion.\n",
    "# Similar to  Bishop Figure 4.5 (with just two classes here.)\n",
    "# Total number of plots = 2 \n",
    "\n",
    "\n"
   ]
  },
  {
   "attachments": {},
   "cell_type": "markdown",
   "metadata": {
    "collapsed": true
   },
   "source": [
    "**Cell type : TextRead**\n",
    "\n",
    "\n",
    "# 7 Random Forest classifier\n",
    "\n",
    "Write code for learning RandomForests below. Fix the following hyper parameters: (Fraction of data to learn tree=0.5, Fraction of number of features chosen in each node=0.5, num_nodes_stop=1).  Choose the number of trees to add in the forest by using a validation set. You may use a slightly modified version of the decision tree code you had written earlier.\n",
    "\n",
    "Write code for running in the cell after the nest. (You may be asked to demonstrate your code during the viva using this cell.) \n",
    "\n",
    "In text cell after that report the following numbers you get by running appropriate code:\n",
    "\n",
    "For all 4 classification data sets (A,B,C,D)  report the best number of trees found. Report the training and test zero-one error for those hyperparameters.\n",
    "\n",
    "For the synthetic classification datasets (datasets A and B) in 2-dimensions, also illustrate the learned classifier for each kernel setting. Do this in the last codeWrite cell for this question."
   ]
  },
  {
   "cell_type": "code",
   "execution_count": null,
   "metadata": {
    "collapsed": true
   },
   "outputs": [],
   "source": [
    "# CodeWrite cell\n",
    "# Write Random Forest classifier. \n",
    "def train_random_forest(X, Y, num_trees=10, num_nodes_stop=1, \n",
    "                        criterion='accuracy', a=0.5, b=0.5):\n",
    "    \"\"\" Returns a random forest trained on X and Y. \n",
    "    Trains num_trees.\n",
    "    Stops splitting nodes in each tree when a node has hit a size of \"num_nodes_stop\" or lower.\n",
    "    Split criterion can be either 'accuracy' or 'entropy'.\n",
    "    Fraction of data used per tree = a\n",
    "    Fraction of features used in each node = b\n",
    "    Returns a random forest (In whatever format that you find appropriate)\n",
    "    \"\"\"\n",
    "    \n",
    "\n",
    "def eval_random_forest(random_forest, test_X):\n",
    "    \"\"\" Takes in a  random forest object (however you want to store it), and a bunch of instances X and \n",
    "    returns the tree predicted values at those instances.\"\"\"\n",
    "\n",
    "\n"
   ]
  },
  {
   "cell_type": "code",
   "execution_count": null,
   "metadata": {
    "collapsed": true
   },
   "outputs": [],
   "source": [
    "# CodeWrite cell\n",
    "# Write code for choosing the best hyperparameters (num_trees, num_nodes_stop)\n",
    "# Write code here for generating the numbers that you report below.\n",
    "# Repeat above for criterion set to entropy also.\n",
    "\n"
   ]
  },
  {
   "cell_type": "markdown",
   "metadata": {},
   "source": [
    "TextWrite cell: Give your observations and the list of hyperparameter choices and train zero-one error  and test zero-one error, for all 4 datasets (2 real world and 2 synthetic).  \n"
   ]
  },
  {
   "cell_type": "code",
   "execution_count": 3,
   "metadata": {
    "collapsed": true
   },
   "outputs": [],
   "source": [
    "## Codewrite cell: Generate plots of learned Random Forest classifier on dataset_A and datasset_B.\n",
    "# Plots should give both the learned classifier and the train data. \n",
    "# Plots required only for the accuracy criterion.\n",
    "# Similar to  Bishop Figure 4.5 (with just two classes here.)\n",
    "# Total number of plots = 2 \n"
   ]
  },
  {
   "attachments": {},
   "cell_type": "markdown",
   "metadata": {},
   "source": [
    "**Cell type : TextRead**\n",
    "\n",
    "# 8 AdaBoost\n",
    "\n",
    "Write code for learning using AdaBoost below. Use 3 different weak learners below. (You may reuse code written above)\n",
    "\n",
    "1. 1 node decision tree \n",
    "2. Decision tree of fixed depth = 3 (Root, child, grand child)\n",
    "3. Decision tree of fixed depth = 7 (Root, child, grand child, ..., great^4 grand child)\n",
    "\n",
    "Run for 50 iterations. You may use the accuracy split criterion for all the three weak learners.\n",
    "\n",
    "Write code for running in the next cell. (You may be asked to demonstrate your code during the viva using this cell.) \n",
    "\n",
    "In text cell after that report the following numbers you get by running appropriate code:\n",
    "\n",
    "For all 4 classification data sets (A,B,C,D)  plot the train and test accuracy vs iterations. A total of 12 plots is expected. 4 datasets * 3 weak learners. Each plot should contain two curves, train and test error.  \n",
    "\n",
    "For the synthetic classification datasets (datasets A and B) in 2-dimensions, also illustrate the learned classifier for each weak learner setting. A total of 6 contourf style plots are expected here. Do this in the last codeWrite cell for this question.\n",
    "\n",
    "Summarise your observations in the last textwrite cell."
   ]
  },
  {
   "cell_type": "code",
   "execution_count": 4,
   "metadata": {
    "collapsed": true
   },
   "outputs": [],
   "source": [
    "# Codewrite cell\n",
    "# Write code to run here (no plotting)\n"
   ]
  },
  {
   "cell_type": "code",
   "execution_count": 5,
   "metadata": {
    "collapsed": true
   },
   "outputs": [],
   "source": [
    "# Codewrite cell \n",
    "# Plots for iteration vs error here\n"
   ]
  },
  {
   "cell_type": "code",
   "execution_count": 6,
   "metadata": {
    "collapsed": true
   },
   "outputs": [],
   "source": [
    "# Codewrite cell \n",
    "# Plots for illustrating the classifier here\n"
   ]
  },
  {
   "cell_type": "markdown",
   "metadata": {},
   "source": [
    "Textwrite cell:"
   ]
  },
  {
   "attachments": {},
   "cell_type": "markdown",
   "metadata": {},
   "source": [
    "**Cell type : TextRead**\n",
    "\n",
    "# 9 Lasso Regression\n",
    "\n",
    "Write code for learning using Lasso Regression and give your conclusions. Use the dataset LassoReg_data.npz for this question. The file contains two matrices of size 120\\*1000 and 120\\*1, corresponding to 120 instance points with 1000 dimensional features and its targets.\n",
    "\n",
    " Split the data into train-validation-test on 50-25-25 ratio. Learn the best model using Lasso Regression (use projected gradient descent, the projection oracle code is given for your convenience). Try different learning rate parameters and L1 norm ball constraint radii. Choose an appropriate learning rate that allows for convergence of the training loss.  Train the models for different L1 norm radius parameters. Choose the L1 norm constraint that works best on the validation set. \n",
    "\n",
    "In the last textwrite cell below, report the test error of the learned model thus chosen. Also report the indices and weight values corresponding to the top 10 values of the weight vector (which is 1000 dimensional). \n",
    "\n",
    "\n"
   ]
  },
  {
   "cell_type": "code",
   "execution_count": 2,
   "metadata": {},
   "outputs": [],
   "source": [
    "# Coderead cell\n",
    "\n",
    "def projection_oracle_l1(w, l1_norm):\n",
    "    # first remeber signs and store them. Modify w so that it is all positive then.\n",
    "    signs = np.sign(w)\n",
    "    w = w*signs\n",
    "    # project this modified w onto the simplex in first orthant.\n",
    "    d=len(w)\n",
    "    # if w is already in l1 norm ball return as it is.\n",
    "    if np.sum(w)<=l1_norm:\n",
    "        return w*signs\n",
    "    \n",
    "    # using 1e-7 as zero here to avoid foating point issues\n",
    "    for i in range(d):\n",
    "        w_next = w+0\n",
    "        w_next[w>1e-7] = w[w>1e-7] - np.min(w[w>1e-7])\n",
    "        if np.sum(w_next)<=l1_norm:\n",
    "            w = ((l1_norm - np.sum(w_next))*w + (np.sum(w) - l1_norm)*w_next)/(np.sum(w)-np.sum(w_next))\n",
    "            return w*signs\n",
    "        else:\n",
    "            w=w_next\n",
    "\n",
    "# test above code\n",
    "# print (projection_oracle_l1(w=np.array([1.,2,3,4]), l1_norm=2))\n",
    "# Projecting the vector (1,2,3,4) on to the l1 norm ball of radius 2 will give (0,0,0.5,1.5)"
   ]
  },
  {
   "cell_type": "code",
   "execution_count": null,
   "metadata": {},
   "outputs": [],
   "source": [
    "# codewrite cell:\n",
    "# Use this cell to do read the data and do preprocessing (split data into train, test, val etc) and write any helper functions you may need \n",
    "# like evaluating the mean squared error or the gradient w.r.t. w\n"
   ]
  },
  {
   "cell_type": "code",
   "execution_count": null,
   "metadata": {},
   "outputs": [],
   "source": [
    "# codewrite cell:\n",
    "\n",
    "# Write the code for the gradient descent routine on the training set mean square error loss function.\n",
    "# Also write code for doing validation of the learned model using the validation set"
   ]
  },
  {
   "cell_type": "markdown",
   "metadata": {},
   "source": [
    "#Textwrite cell:\n"
   ]
  }
 ],
 "metadata": {
  "kernelspec": {
   "display_name": "base",
   "language": "python",
   "name": "python3"
  },
  "language_info": {
   "codemirror_mode": {
    "name": "ipython",
    "version": 3
   },
   "file_extension": ".py",
   "mimetype": "text/x-python",
   "name": "python",
   "nbconvert_exporter": "python",
   "pygments_lexer": "ipython3",
   "version": "3.9.18"
  },
  "vscode": {
   "interpreter": {
    "hash": "00ad5f1807eee938f7727b558c9158a01118eae9a3a444b82c1137c2e4c2794d"
   }
  }
 },
 "nbformat": 4,
 "nbformat_minor": 2
}
